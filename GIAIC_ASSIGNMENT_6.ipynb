{
  "nbformat": 4,
  "nbformat_minor": 0,
  "metadata": {
    "colab": {
      "provenance": []
    },
    "kernelspec": {
      "name": "python3",
      "display_name": "Python 3"
    },
    "language_info": {
      "name": "python"
    }
  },
  "cells": [
    {
      "cell_type": "code",
      "execution_count": null,
      "metadata": {
        "colab": {
          "base_uri": "https://localhost:8080/"
        },
        "id": "Dj_fXbMxnPLR",
        "outputId": "5cb956a6-3a35-436c-f60f-c50d91a31abc"
      },
      "outputs": [
        {
          "output_type": "stream",
          "name": "stdout",
          "text": [
            "Name: warisha\n",
            "Marks: 90\n",
            "Name: aine\n",
            "Marks: 98\n"
          ]
        }
      ],
      "source": [
        "#Assignment 1:\n",
        "class Student:\n",
        "  def __init__ (self, name, marks):\n",
        "    self.name = name\n",
        "    self.marks = marks\n",
        "\n",
        "  def display(self):\n",
        "    print(\"Name:\", self.name)\n",
        "    print(\"Marks:\", self.marks)\n",
        "\n",
        "s1 = Student (\"warisha\", 90)\n",
        "s2 = Student (\"aine\", 98)\n",
        "\n",
        "s1.display()\n",
        "s2.display()\n",
        "\n"
      ]
    },
    {
      "cell_type": "code",
      "source": [
        "#Assignment 2:\n",
        "class Counter:\n",
        "    count = 0  # Class variable\n",
        "\n",
        "    def __init__(self):\n",
        "        Counter.count += 1  # Har new object par count +1\n",
        "\n",
        "    @classmethod\n",
        "    def show_count(cls):\n",
        "        print(\"Total objects created:\", cls.count)  # Class variable print karna\n",
        "\n",
        "# Objects banaye\n",
        "c1 = Counter()\n",
        "c2 = Counter()\n",
        "c3 = Counter()\n",
        "\n",
        "\n",
        "# Class method call kiya\n",
        "Counter.show_count()\n"
      ],
      "metadata": {
        "colab": {
          "base_uri": "https://localhost:8080/"
        },
        "id": "xTe4FvujvruM",
        "outputId": "cc4fe7d0-8346-480a-f66d-54d8c493a80f"
      },
      "execution_count": 4,
      "outputs": [
        {
          "output_type": "stream",
          "name": "stdout",
          "text": [
            "Total objects created: 3\n"
          ]
        }
      ]
    },
    {
      "cell_type": "code",
      "source": [
        "#Assignment 3:\n",
        "class Car:\n",
        "    def __init__(self, brand):\n",
        "        self.brand = brand  # public variable\n",
        "\n",
        "    def start(self):        # public method\n",
        "        print(self.brand, \"is starting...\")\n",
        "\n",
        "car1 = Car(\"Toyota\")\n",
        "print(car1.brand)\n",
        "car1.start()\n"
      ],
      "metadata": {
        "colab": {
          "base_uri": "https://localhost:8080/"
        },
        "id": "5beoVojIvrr1",
        "outputId": "d04404c1-dee7-4f80-fc90-7edc519833fe"
      },
      "execution_count": 6,
      "outputs": [
        {
          "output_type": "stream",
          "name": "stdout",
          "text": [
            "Toyota\n",
            "Toyota is starting...\n"
          ]
        }
      ]
    },
    {
      "cell_type": "code",
      "source": [
        "#Assignment 4:\n",
        "\n",
        "class Bank:\n",
        "    bank_name = \"State Bank\"  # class variable\n",
        "\n",
        "    def __init__(self, customer):\n",
        "        self.customer = customer\n",
        "\n",
        "    @classmethod\n",
        "    def change_bank_name(cls, name):\n",
        "        cls.bank_name = name\n",
        "\n",
        "# Objects\n",
        "b1 = Bank(\"Warisha\")\n",
        "b2 = Bank(\"Quratulain\")\n",
        "\n",
        "# Before changing\n",
        "print(b1.bank_name)  # State Bank\n",
        "print(b2.bank_name)  # State Bank\n",
        "\n",
        "# Changing bank name\n",
        "Bank.change_bank_name(\"United Limited Bank\")\n",
        "\n",
        "# After changing\n",
        "print(b1.bank_name)\n",
        "print(b2.bank_name)\n"
      ],
      "metadata": {
        "colab": {
          "base_uri": "https://localhost:8080/"
        },
        "id": "14qI1YXY1g8S",
        "outputId": "25577d0c-71f2-4784-c7a9-8bfad5f41da3"
      },
      "execution_count": 7,
      "outputs": [
        {
          "output_type": "stream",
          "name": "stdout",
          "text": [
            "State Bank\n",
            "State Bank\n",
            "United Limited Bank\n",
            "United Limited Bank\n"
          ]
        }
      ]
    },
    {
      "cell_type": "code",
      "source": [
        "#Assigment 5\n",
        "\n",
        "class MathUtils:\n",
        "    @staticmethod\n",
        "    def add(a, b):\n",
        "        return a + b\n",
        "\n",
        "# Call static method\n",
        "print(MathUtils.add(10, 20))\n",
        "\n",
        "# Optional: call via object\n",
        "m = MathUtils()\n",
        "print(m.add(5, 7))\n"
      ],
      "metadata": {
        "colab": {
          "base_uri": "https://localhost:8080/"
        },
        "id": "yPwppOqm3kn6",
        "outputId": "572b8ddd-1d83-43af-dea5-400960e72a79"
      },
      "execution_count": 8,
      "outputs": [
        {
          "output_type": "stream",
          "name": "stdout",
          "text": [
            "30\n",
            "12\n"
          ]
        }
      ]
    },
    {
      "cell_type": "code",
      "source": [
        "# Assignment 6\n",
        "\n",
        "class Logger:\n",
        "    def __init__(self):\n",
        "        print(\"Logger created!\")\n",
        "\n",
        "    def __del__(self):\n",
        "        print(\"Logger destroyed!\")\n",
        "\n",
        "log = Logger()  # Output: Logger created!\n",
        "del log         # Output: Logger destroyed!\n"
      ],
      "metadata": {
        "colab": {
          "base_uri": "https://localhost:8080/"
        },
        "id": "PRxBdKnH3wtq",
        "outputId": "f05936c5-9c2d-406d-857c-167bf27dc523"
      },
      "execution_count": 9,
      "outputs": [
        {
          "output_type": "stream",
          "name": "stdout",
          "text": [
            "Logger created!\n",
            "Logger destroyed!\n"
          ]
        }
      ]
    },
    {
      "cell_type": "code",
      "source": [
        "#Assignment 7\n",
        "\n",
        "class Employee:\n",
        "    def __init__(self, name, salary, ssn):\n",
        "        self.name = name           # Public\n",
        "        self._salary = salary      # Protected\n",
        "        self.__ssn = ssn           # Private\n",
        "\n",
        "emp = Employee(\"Ali\", 50000, \"123-45-6789\")\n",
        "\n",
        "print(emp.name)             # Public: OK\n",
        "print(emp._salary)          # Protected: technically allowed\n",
        "# print(emp.__ssn)          # Private: ERROR\n",
        "print(emp._Employee__ssn)   # Private (access via name mangling): OK\n"
      ],
      "metadata": {
        "id": "dzvJ3KO_4cJL"
      },
      "execution_count": null,
      "outputs": []
    },
    {
      "cell_type": "code",
      "source": [
        "#Assignment 8\n",
        "\n",
        "class Person:\n",
        "    def __init__(self, name):\n",
        "        self.name = name\n",
        "\n",
        "class Teacher(Person):\n",
        "    def __init__(self, name, subject):\n",
        "        super().__init__(name)\n",
        "        self.subject = subject\n",
        "\n",
        "t = Teacher(\"Ali\", \"Math\")\n",
        "print(t.name)       # Output: Ali\n",
        "print(t.subject)    # Output: Math\n"
      ],
      "metadata": {
        "id": "B60QFVnz4jvb"
      },
      "execution_count": null,
      "outputs": []
    },
    {
      "cell_type": "code",
      "source": [
        "#Assignment 9\n",
        "\n",
        "from abc import ABC, abstractmethod\n",
        "\n",
        "class Shape(ABC):\n",
        "    @abstractmethod\n",
        "    def area(self):\n",
        "        pass\n",
        "\n",
        "class Rectangle(Shape):\n",
        "    def __init__(self, width, height):\n",
        "        self.width = width\n",
        "        self.height = height\n",
        "\n",
        "    def area(self):\n",
        "        return self.width * self.height\n",
        "\n",
        "r = Rectangle(5, 4)\n",
        "print(r.area())  # Output: 20\n"
      ],
      "metadata": {
        "colab": {
          "base_uri": "https://localhost:8080/"
        },
        "id": "9jDzJ4_t4zBS",
        "outputId": "34c26b3c-d353-43cd-c2fa-2c6c9d0b2b0a"
      },
      "execution_count": 10,
      "outputs": [
        {
          "output_type": "stream",
          "name": "stdout",
          "text": [
            "20\n"
          ]
        }
      ]
    },
    {
      "cell_type": "code",
      "source": [
        "#Assignment 10\n",
        "\n",
        "class Dog:\n",
        "    def __init__(self, name, breed):\n",
        "        self.name = name\n",
        "        self.breed = breed\n",
        "\n",
        "    def bark(self):\n",
        "        print(f\"{self.name} is barking! Woof woof!\")\n",
        "\n",
        "d = Dog(\"Tommy\", \"Labrador\")\n",
        "d.bark()\n"
      ],
      "metadata": {
        "colab": {
          "base_uri": "https://localhost:8080/"
        },
        "id": "DTpaw5us4_2z",
        "outputId": "8224227e-674b-4e03-be67-3360ba42fe93"
      },
      "execution_count": 11,
      "outputs": [
        {
          "output_type": "stream",
          "name": "stdout",
          "text": [
            "Tommy is barking! Woof woof!\n"
          ]
        }
      ]
    },
    {
      "cell_type": "code",
      "source": [
        "#Assignment 11\n",
        "\n",
        "class Book:\n",
        "    total_books = 0\n",
        "\n",
        "    @classmethod\n",
        "    def increment_book_count(cls):\n",
        "        cls.total_books += 1\n",
        "\n",
        "    def __init__(self, title):\n",
        "        self.title = title\n",
        "        Book.increment_book_count()\n",
        "\n",
        "b1 = Book(\"Python 101\")\n",
        "b2 = Book(\"Learn Java\")\n",
        "print(Book.total_books)   # Output: 2\n"
      ],
      "metadata": {
        "colab": {
          "base_uri": "https://localhost:8080/"
        },
        "id": "jU99KlQr5PWm",
        "outputId": "9d63a14a-9d74-4368-e1ab-30bf959db685"
      },
      "execution_count": 12,
      "outputs": [
        {
          "output_type": "stream",
          "name": "stdout",
          "text": [
            "2\n"
          ]
        }
      ]
    },
    {
      "cell_type": "code",
      "source": [
        "#Assignment 12\n",
        "\n",
        "class TemperatureConverter:\n",
        "    @staticmethod\n",
        "    def celsius_to_fahrenheit(c):\n",
        "        return (c * 9/5) + 32\n",
        "\n",
        "print(TemperatureConverter.celsius_to_fahrenheit(25))  # Output: 77.0\n"
      ],
      "metadata": {
        "colab": {
          "base_uri": "https://localhost:8080/"
        },
        "id": "USquzT1a5Uwo",
        "outputId": "1c3fd910-9d27-44bf-9359-f645e59b1af8"
      },
      "execution_count": 13,
      "outputs": [
        {
          "output_type": "stream",
          "name": "stdout",
          "text": [
            "77.0\n"
          ]
        }
      ]
    },
    {
      "cell_type": "code",
      "source": [
        "#Assignment 13\n",
        "\n",
        "class Engine:\n",
        "    def start(self):\n",
        "        print(\"Engine started\")\n",
        "\n",
        "class Car:\n",
        "    def __init__(self, engine):\n",
        "        self.engine = engine\n",
        "\n",
        "    def start_engine(self):\n",
        "        self.engine.start()\n",
        "\n",
        "e = Engine()\n",
        "c = Car(e)\n",
        "c.start_engine()\n"
      ],
      "metadata": {
        "id": "-nqJ1OSD5iIV"
      },
      "execution_count": null,
      "outputs": []
    },
    {
      "cell_type": "code",
      "source": [
        "#Assignment 14\n",
        "\n",
        "class Employee:\n",
        "    def __init__(self, name):\n",
        "        self.name = name\n",
        "\n",
        "class Department:\n",
        "    def __init__(self, name):\n",
        "        self.name = name\n",
        "        self.employees = []\n",
        "\n",
        "    def add_employee(self, employee):\n",
        "        self.employees.append(employee)\n",
        "\n",
        "    def show_employees(self):\n",
        "        for emp in self.employees:\n",
        "            print(emp.name)\n",
        "\n",
        "e1 = Employee(\"Ahmed\")\n",
        "e2 = Employee(\"Sara\")\n",
        "\n",
        "d = Department(\"IT\")\n",
        "d.add_employee(e1)\n",
        "d.add_employee(e2)\n",
        "\n",
        "d.show_employees()\n"
      ],
      "metadata": {
        "colab": {
          "base_uri": "https://localhost:8080/"
        },
        "id": "ySfjyHWK5wSk",
        "outputId": "4a09ed13-b125-4b12-e584-922e14cdbae8"
      },
      "execution_count": 14,
      "outputs": [
        {
          "output_type": "stream",
          "name": "stdout",
          "text": [
            "Ahmed\n",
            "Sara\n"
          ]
        }
      ]
    },
    {
      "cell_type": "code",
      "source": [
        "#Assignment 15\n",
        "\n",
        "class A:\n",
        "    def show(self):\n",
        "        print(\"Show from A\")\n",
        "\n",
        "class B(A):\n",
        "    def show(self):\n",
        "        print(\"Show from B\")\n",
        "\n",
        "class C(A):\n",
        "    def show(self):\n",
        "        print(\"Show from C\")\n",
        "\n",
        "class D(B, C):\n",
        "    pass\n",
        "\n",
        "d = D()\n",
        "d.show()   # Output: Show from B\n"
      ],
      "metadata": {
        "id": "FYgCTjwn5867"
      },
      "execution_count": null,
      "outputs": []
    },
    {
      "cell_type": "code",
      "source": [
        "#Assignment 16\n",
        "\n",
        "def log_function_call(func):\n",
        "    def wrapper():\n",
        "        print(\"Function is being called\")\n",
        "        func()\n",
        "    return wrapper\n",
        "\n",
        "@log_function_call\n",
        "def say_hello():\n",
        "    print(\"Hello!\")\n",
        "\n",
        "say_hello()\n"
      ],
      "metadata": {
        "id": "FdjbPFmw6H5j"
      },
      "execution_count": null,
      "outputs": []
    },
    {
      "cell_type": "code",
      "source": [
        "#Assignment 17\n",
        "\n",
        "def add_greeting(cls):\n",
        "    def greet(self):\n",
        "        return \"Hello from Decorator!\"\n",
        "\n",
        "    cls.greet = greet\n",
        "    return cls\n",
        "\n",
        "@add_greeting\n",
        "class Person:\n",
        "    def __init__(self, name):\n",
        "        self.name = name\n",
        "\n",
        "p = Person(\"Ali\")\n",
        "print(p.greet())\n"
      ],
      "metadata": {
        "id": "bxuis0iK6Ubc"
      },
      "execution_count": null,
      "outputs": []
    },
    {
      "cell_type": "code",
      "source": [
        "#Assignment 18\n",
        "\n",
        "class Product:\n",
        "    def __init__(self, price):\n",
        "        self._price = price\n",
        "\n",
        "    @property\n",
        "    def price(self):\n",
        "        return self._price\n",
        "\n",
        "    @price.setter\n",
        "    def price(self, value):\n",
        "        if value >= 0:\n",
        "            self._price = value\n",
        "        else:\n",
        "            print(\"Invalid price!\")\n",
        "\n",
        "    @price.deleter\n",
        "    def price(self):\n",
        "        print(\"Deleting price...\")\n",
        "        del self._price\n",
        "\n",
        "# Test\n",
        "p = Product(50)\n",
        "print(p.price)\n",
        "\n",
        "p.price = 100\n",
        "print(p.price)\n",
        "\n",
        "del p.price\n"
      ],
      "metadata": {
        "colab": {
          "base_uri": "https://localhost:8080/"
        },
        "id": "BS9Of-XT6j9U",
        "outputId": "1226d0a4-5bf9-4291-b8b3-b6dc9523e599"
      },
      "execution_count": 15,
      "outputs": [
        {
          "output_type": "stream",
          "name": "stdout",
          "text": [
            "50\n",
            "100\n",
            "Deleting price...\n"
          ]
        }
      ]
    },
    {
      "cell_type": "code",
      "source": [
        "#Assignment 19\n",
        "\n",
        "class Multiplier:\n",
        "    def __init__(self, factor):\n",
        "        self.factor = factor\n",
        "\n",
        "    def __call__(self, number):\n",
        "        return number * self.factor\n",
        "\n",
        "m = Multiplier(5)\n",
        "\n",
        "print(callable(m))   # True\n",
        "print(m(10))         # 50\n"
      ],
      "metadata": {
        "id": "bnJC996h6xHS"
      },
      "execution_count": null,
      "outputs": []
    },
    {
      "cell_type": "code",
      "source": [
        "#Assignment 20\n",
        "class InvalidAgeError(Exception):\n",
        "    pass\n",
        "\n",
        "def check_age(age):\n",
        "    if age < 18:\n",
        "        raise InvalidAgeError(\"Age must be 18 or above\")\n",
        "    else:\n",
        "        print(\"Age is valid\")\n",
        "\n",
        "try:\n",
        "    check_age(15)\n",
        "except InvalidAgeError as e:\n",
        "    print(\"Caught an exception:\", e)\n",
        "\n"
      ],
      "metadata": {
        "id": "nr5BfXaC7AI1"
      },
      "execution_count": null,
      "outputs": []
    },
    {
      "cell_type": "code",
      "source": [
        "#Assignment 21\n",
        "class Countdown:\n",
        "    def __init__(self, start):\n",
        "        self.current = start\n",
        "\n",
        "    def __iter__(self):\n",
        "        return self\n",
        "\n",
        "    def __next__(self):\n",
        "        if self.current < 0:\n",
        "            raise StopIteration\n",
        "        else:\n",
        "            num = self.current\n",
        "            self.current -= 1\n",
        "            return num\n",
        "\n",
        "# Test\n",
        "c = Countdown(5)\n",
        "for num in c:\n",
        "    print(num)\n"
      ],
      "metadata": {
        "colab": {
          "base_uri": "https://localhost:8080/"
        },
        "id": "vNHSXWes7P9G",
        "outputId": "77c49892-52d3-4a45-c7a6-b4fabf2294fc"
      },
      "execution_count": 16,
      "outputs": [
        {
          "output_type": "stream",
          "name": "stdout",
          "text": [
            "5\n",
            "4\n",
            "3\n",
            "2\n",
            "1\n",
            "0\n"
          ]
        }
      ]
    }
  ]
}